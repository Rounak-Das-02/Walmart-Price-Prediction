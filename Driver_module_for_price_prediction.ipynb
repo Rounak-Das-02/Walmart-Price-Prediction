{
  "nbformat": 4,
  "nbformat_minor": 0,
  "metadata": {
    "colab": {
      "name": "Driver module for price prediction.ipynb",
      "provenance": [],
      "authorship_tag": "ABX9TyORSHjBJB2YpnlFGiP7kwn4",
      "include_colab_link": true
    },
    "kernelspec": {
      "name": "python3",
      "display_name": "Python 3"
    }
  },
  "cells": [
    {
      "cell_type": "markdown",
      "metadata": {
        "id": "view-in-github",
        "colab_type": "text"
      },
      "source": [
        "<a href=\"https://colab.research.google.com/github/Rounak-Das-02/Walmart-Price-Prediction/blob/master/Driver_module_for_price_prediction.ipynb\" target=\"_parent\"><img src=\"https://colab.research.google.com/assets/colab-badge.svg\" alt=\"Open In Colab\"/></a>"
      ]
    },
    {
      "cell_type": "code",
      "metadata": {
        "id": "3fKQjUUQCOVI",
        "colab_type": "code",
        "colab": {}
      },
      "source": [
        "!git clone https://github.com/RAHULKASHYAP02/WALMART-STORE-SALES-PREDICTION-FORECASTING.git"
      ],
      "execution_count": 0,
      "outputs": []
    },
    {
      "cell_type": "code",
      "metadata": {
        "id": "NiBFHxcvB8bx",
        "colab_type": "code",
        "colab": {}
      },
      "source": [
        "import matplotlib.pyplot as plt\n",
        "from sklearn.externals import joblib\n",
        "from sklearn.preprocessing import StandardScaler\n",
        "\n",
        "model = joblib.load(\"/content/model.pkl\")\n",
        "x_train = joblib.load(\"/content/to be fit_transformed into the Standard Scaler\")\n",
        "\n",
        "\n",
        "test = pd.read_csv(\"/content/WALMART-STORE-SALES-PREDICTION-FORECASTING/data/test.csv\")\n",
        "\n",
        "\n",
        "\n",
        "test[\"year\"] = pd.to_datetime(test[\"Date\"]).dt.year\n",
        "test[\"month\"] = pd.to_datetime(test[\"Date\"]).dt.month\n",
        "test[\"day\"] = pd.to_datetime(test[\"Date\"]).dt.day\n",
        "\n",
        "dates = np.array(test[\"Date\"])\n",
        "\n",
        "test = test.drop(\"Date\" ,axis =1)\n",
        "\n",
        "sc = StandardScaler()\n",
        "ty = sc.fit_transform(x_train)\n",
        "test = sc.transform(test)\n",
        "\n",
        "output = model.predict(test)\n",
        "\n",
        "plt.figure(0,figsize = [50,50])\n",
        "plt.plot(dates , output , color = \"green\")\n",
        "plt.xlabel(\"Date\" , size = 50)\n",
        "plt.ylabel(\"Weekly_Sales\" , size = 50)\n",
        "plt.show()\n"
      ],
      "execution_count": 0,
      "outputs": []
    }
  ]
}